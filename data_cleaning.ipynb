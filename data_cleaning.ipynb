{
 "cells": [
  {
   "cell_type": "code",
   "execution_count": 1,
   "metadata": {},
   "outputs": [],
   "source": [
    "import numpy as np\n",
    "import pprint\n",
    "pp = pprint.PrettyPrinter(depth = 2)\n",
    "import re\n",
    "from utils import *\n",
    "import pickle"
   ]
  },
  {
   "cell_type": "markdown",
   "metadata": {},
   "source": [
    "Load in the data"
   ]
  },
  {
   "cell_type": "code",
   "execution_count": 2,
   "metadata": {},
   "outputs": [],
   "source": [
    "with open(os.path.join(\"data\", \"datar.pickle\"), \"rb\") as f:\n",
    "    datar = pickle.load(f)"
   ]
  },
  {
   "cell_type": "code",
   "execution_count": 3,
   "metadata": {},
   "outputs": [],
   "source": [
    "github_metadata            = datar.github_metadata\n",
    "google_play_metadata       = datar.google_play_metadata\n",
    "github_names               = datar.github_names\n",
    "all_release_metadata       = datar.all_release_metadata\n",
    "all_reviews_from_github    = datar.all_reviews_from_github"
   ]
  },
  {
   "cell_type": "markdown",
   "metadata": {},
   "source": [
    "Some statistics"
   ]
  },
  {
   "cell_type": "code",
   "execution_count": 4,
   "metadata": {},
   "outputs": [
    {
     "name": "stdout",
     "output_type": "stream",
     "text": [
      "There are 1388 GitHub repositories with metadata.\n",
      "There are 1419 Google Play repositories with metadata.\n",
      "There are 1107 applications with reviews.\n",
      "There are 1363 applications with release-related metadata.\n"
     ]
    }
   ],
   "source": [
    "print_statistics(github_metadata, google_play_metadata)"
   ]
  },
  {
   "cell_type": "code",
   "execution_count": 11,
   "metadata": {},
   "outputs": [],
   "source": [
    "review_versions = {\n",
    "    github_name : set(review[\"reviewCreatedVersion\"] for review in reviews if reviews is not None) \n",
    "    for github_name, reviews in all_reviews_from_github.items()\n",
    "}\n",
    "\n",
    "github_versions = {\n",
    "    github_name : set(get_version(x) for x in release_metadata if release_metadata is not None) \n",
    "    for github_name, release_metadata in all_release_metadata.items()\n",
    "}\n",
    "\n",
    "symmetric_difference = {\n",
    "    github_name : review_versions[github_name].symmetric_difference(github_versions[github_name])\n",
    "    for github_name in github_names\n",
    "}\n",
    "\n",
    "review_minus_github_versions = {\n",
    "    github_name : review_versions[github_name].difference(github_versions[github_name])\n",
    "    for github_name in github_names\n",
    "}"
   ]
  },
  {
   "cell_type": "code",
   "execution_count": 41,
   "metadata": {},
   "outputs": [],
   "source": [
    "github_names_wo_missing_versions_with_letters = np.array([key for key, val in review_minus_github_versions.items() if len([v for v in val if v is not None]) == 0])\n",
    "github_names_wo_missing_versions_ignoring_letters = np.array([key for key, val in review_minus_github_versions.items() if len([v for v in val if v is not None and re.search('[a-zA-Z]', v) is None]) == 0])"
   ]
  },
  {
   "cell_type": "code",
   "execution_count": 42,
   "metadata": {},
   "outputs": [],
   "source": [
    "with open(\"github_names_wo_missing_versions_with_letters.txt\", \"w\") as f:\n",
    "    f.write(\"\\n\".join(github_names_wo_missing_versions_with_letters))\n",
    "    \n",
    "with open(\"github_names_wo_missing_versions_ignoring_letters.txt\", \"w\") as f:\n",
    "    f.write(\"\\n\".join(github_names_wo_missing_versions_ignoring_letters))"
   ]
  },
  {
   "cell_type": "code",
   "execution_count": 47,
   "metadata": {},
   "outputs": [],
   "source": [
    "def save_subset(datar, github_names : list, saveName : str):\n",
    "    metadata_transform          = lambda x : np.array([y for y in x if y[\"github_name\"] in github_names])\n",
    "    dict_transform              = lambda x : dict((k, x[k]) for k in github_names)\n",
    "    \n",
    "    github_metadata            = metadata_transform(datar.github_metadata)\n",
    "    google_play_metadata       = metadata_transform(datar.google_play_metadata)\n",
    "    all_release_metadata       = dict_transform(datar.all_release_metadata)\n",
    "    all_reviews_from_github    = dict_transform(datar.all_reviews_from_github)\n",
    "    \n",
    "    datar_subset = DATAR(github_metadata, \n",
    "              google_play_metadata, \n",
    "              github_names, \n",
    "              all_release_metadata, \n",
    "              all_reviews_from_github)\n",
    "    \n",
    "    with open(os.path.join(\"data\", saveName + \".pickle\"), \"wb\") as f:\n",
    "        pickle.dump(datar_subset, f, protocol=pickle.HIGHEST_PROTOCOL)"
   ]
  },
  {
   "cell_type": "code",
   "execution_count": 48,
   "metadata": {},
   "outputs": [],
   "source": [
    "save_subset(datar, github_names_wo_missing_versions_with_letters, \"data_clean\")\n",
    "save_subset(datar, github_names_wo_missing_versions_ignoring_letters, \"data_clean_no_letters\")"
   ]
  },
  {
   "cell_type": "code",
   "execution_count": 21,
   "metadata": {},
   "outputs": [
    {
     "name": "stdout",
     "output_type": "stream",
     "text": [
      "There are 1084 (78.1%) GitHub repositories with reviews.\n"
     ]
    }
   ],
   "source": [
    "github_repos_with_reviews = list(key for key, val in review_versions.items() if len(val) != 0)\n",
    "print(f\"There are {len(github_repos_with_reviews)} ({len(github_repos_with_reviews) / len(github_names) * 100:.1f}%) GitHub repositories with reviews.\")"
   ]
  }
 ],
 "metadata": {
  "kernelspec": {
   "display_name": "datar",
   "language": "python",
   "name": "python3"
  },
  "language_info": {
   "codemirror_mode": {
    "name": "ipython",
    "version": 3
   },
   "file_extension": ".py",
   "mimetype": "text/x-python",
   "name": "python",
   "nbconvert_exporter": "python",
   "pygments_lexer": "ipython3",
   "version": "3.10.16"
  }
 },
 "nbformat": 4,
 "nbformat_minor": 2
}
