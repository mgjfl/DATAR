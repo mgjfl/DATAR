{
 "cells": [
  {
   "cell_type": "code",
   "execution_count": 1,
   "metadata": {},
   "outputs": [],
   "source": [
    "import pickle\n",
    "from utils import *\n",
    "import numpy as np"
   ]
  },
  {
   "cell_type": "markdown",
   "metadata": {},
   "source": [
    "Load in the data"
   ]
  },
  {
   "cell_type": "code",
   "execution_count": 2,
   "metadata": {},
   "outputs": [],
   "source": [
    "github_metadata         = get_github_metadata()\n",
    "google_play_metadata    = get_google_play_metadata()\n",
    "github_names            = np.array([github[\"github_name\"] for github in github_metadata])\n",
    "\n",
    "all_release_metadata    = {\n",
    "    github_name : get_release_metadata_from_github(github_name, False) \n",
    "    for github_name in github_names\n",
    "}\n",
    "\n",
    "all_reviews_from_github = {\n",
    "    github_name : get_reviews_from_github(github_name, False) \n",
    "    for github_name in github_names\n",
    "}"
   ]
  },
  {
   "cell_type": "markdown",
   "metadata": {},
   "source": [
    "Put the data into a class"
   ]
  },
  {
   "cell_type": "code",
   "execution_count": 3,
   "metadata": {},
   "outputs": [],
   "source": [
    "datar = DATAR(github_metadata, \n",
    "              google_play_metadata, \n",
    "              github_names, \n",
    "              all_release_metadata, \n",
    "              all_reviews_from_github)"
   ]
  },
  {
   "cell_type": "markdown",
   "metadata": {},
   "source": [
    "Save the data"
   ]
  },
  {
   "cell_type": "code",
   "execution_count": 4,
   "metadata": {},
   "outputs": [],
   "source": [
    "with open(os.path.join(\"data\", \"datar.pickle\"), \"wb\") as f:\n",
    "    pickle.dump(datar, f, protocol = pickle.HIGHEST_PROTOCOL)"
   ]
  }
 ],
 "metadata": {
  "kernelspec": {
   "display_name": "datar",
   "language": "python",
   "name": "python3"
  },
  "language_info": {
   "codemirror_mode": {
    "name": "ipython",
    "version": 3
   },
   "file_extension": ".py",
   "mimetype": "text/x-python",
   "name": "python",
   "nbconvert_exporter": "python",
   "pygments_lexer": "ipython3",
   "version": "3.10.16"
  }
 },
 "nbformat": 4,
 "nbformat_minor": 2
}
